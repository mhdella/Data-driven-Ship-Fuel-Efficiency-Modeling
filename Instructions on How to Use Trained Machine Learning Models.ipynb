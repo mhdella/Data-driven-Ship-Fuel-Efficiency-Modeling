{
 "cells": [
  {
   "cell_type": "markdown",
   "metadata": {},
   "source": [
    "***Acknowledgement***. This is the software infrastructure of ***the IAMU (International Association of Maritime Universities) research project titled “Data fusion and machine learning for ship fuel efficiency analysis: a small but essential step towards green shipping through data analytics” (Research Project No. 20210205_AMC). The materials and data in this project have been obtained through the support of IAMU and The Nippon Foundation in Japan***. This project has the following investigators: Yuquan (Bill) Du (Coordinator, Lead Applicant), Peggy Shu-Ling Chen, Nataliya Nikolova, Prashant Bhaskar, and Jiangang Fei from University of Tasmania (UTAS); Alessandro Schönborn from World Maritime University (WMU) as WMU-side Chief Investigator; and Zhuo Sun from Dalian Maritime University (DMU) as DMU-side Chief Investigator. Dr Xiaohe Li laid a good Python code fundation during his University Associate role at UTAS and conducted some preliminary experiments. Ms Yanyu Chen is the major Research Assistant of this project who has major contributions to Python code and conducting experiments under the supervision of Dr Yuquan (Bill) Du. Mr Jean-Louis Bertholier developed the Python code of collecting meteorological data for ships during his Assistant Engineer internship at World Maritime University. Warm help are received from ECMWF (Centre for Medium-range Weather Forecasts) and Copernicus Marine Service (CMEMS) when we wanted to automate the download process of meteorological data. This study has been conducted using E.U. Copernicus Marine Service Information; https://doi.org/10.48670/moi-00050. Hersbach et al. (2018) was downloaded from the Copernicus Climate Change Service (C3S) Climate Data Store. The results of this study and trained machine learning models published contain modified Copernicus Climate Change Service information 2020. Neither the European Commission nor ECMWF is responsible for any use that may be made of the Copernicus information or data it contains.\n",
    "\n",
    "**Reference**.\n",
    "Hersbach, H., Bell, B., Berrisford, P., Biavati, G., Horányi, A., Muñoz Sabater, J., Nicolas, J., Peubey, C., Radu, R., Rozum, I., Schepers, D., Simmons, A., Soci, C., Dee, D., Thépaut, J-N. (2018): ERA5 hourly data on single levels from 1979 to present. Copernicus Climate Change Service (C3S) Climate Data Store (CDS). (Accessed on 10-Sep-2021), 10.24381/cds.adbb2d47.\n",
    "\n",
    "\n",
    "**If you use our trained machine learning models to calculate or predict the fuel consumption rate (ton/day, ton/hour), kindly give us credits by citing our following papers because the models are from these papers.**\n",
    "\n",
    "*Xiaohe Li, Yuquan Du, Yanyu Chen, Son Nguyen, Wei Zhang, Alessandro Schönborn, Zhuo Sun, 2022. \"Data fusion and machine learning for ship fuel efficiency modeling: Part I – voyage report data and meteorological data\". Communications in Transportation Research, 2, 100074.*\n",
    "\n",
    "*Yuquan Du, Yanyu Chen, Xiaohe Li, Alessandro Schönborn, Zhuo Sun, 2022a. \"Data fusion and machine learning for ship fuel efficiency modeling: Part II – voyage report data, AIS data and meteorological data\". Communications in Transportation Research, 2, 100073.*\n",
    "\n",
    "*Yuquan Du, Xiaohe Li, Yanyu Chen, Alessandro Schönborn, Zhuo Sun, 2022b. \"Data fusion and machine learning for ship fuel efficiency modeling: Part III – sensor data and meteorological data\". Communications in Transportation Research, 2, 100072.*\n",
    "\n",
    "**There are 130 trained models in total provided here (in the folder of \"Trained Models/\")** , for four best datasets found in our three papers including ***Set1***, ***Set3Precise***, ***AIS5Precise***, and ***Sensor2***, using machine learning models including ***Extremely randomized trees (ET)***, ***Gradient Tree Boosting (GB)***, ***XGBoost (XG)***, ***Support Vector Machine (SVM)***, and ***Artificial Neural Networks (ANN)***, for ***Ships S1, S2, S3, S4, S5, S6, S7 and S8*** described in our papers. \n",
    "\n",
    "**Each trained model is stored in a separate file**. **For instance, the model stored in the file named \"Ship_S1_GB_AIS5Precise\" is the trained GB model for ship S1 over the dataset *AIS5Precise***. Similary, **the model stored in the file named \"Ship_S5_ET_Sensor2\" is the trained ET model for ship S5 over the dataset *Sensor2*.**\n",
    "\n",
    "The following Python code demonstrates how we can load a machine learning model into Python workspace and forecast the fuel consumption rate (ton/day) given sailing speed, displacement/draft, trim, weather conditions, and sea conditions."
   ]
  },
  {
   "cell_type": "code",
   "execution_count": 3,
   "metadata": {},
   "outputs": [],
   "source": [
    "# Import machine learning models packages in Python\n",
    "import os\n",
    "import time\n",
    "import joblib\n",
    "import openpyxl\n",
    "import numpy as np\n",
    "import pandas as pd \n",
    "import matplotlib.pyplot as plt\n",
    "\n",
    "from sklearn import svm\n",
    "from sklearn.neural_network import MLPRegressor\n",
    "from sklearn.model_selection import learning_curve\n",
    "from sklearn.model_selection import train_test_split\n",
    "from sklearn.ensemble import RandomForestRegressor, ExtraTreesRegressor, GradientBoostingRegressor\n",
    "from sklearn.metrics import r2_score, mean_squared_error, mean_absolute_error, explained_variance_score\n",
    "\n",
    "import xgboost as xgb\n",
    "from xgboost.sklearn import XGBRegressor\n"
   ]
  },
  {
   "cell_type": "markdown",
   "metadata": {},
   "source": [
    "In **Du et al. (2022a)**, the best dataset is ***AIS5Precise***. **Using the trained model \"Ship_S1_GB_AIS5Precise\" as an example**, the following Python code demonstrates how we can load a machine learning model into Python workspace and forecast the fuel consumption rate (ton/day) given sailing speed, displacement/draft, trim, weather conditions, and sea conditions."
   ]
  },
  {
   "cell_type": "code",
   "execution_count": 4,
   "metadata": {},
   "outputs": [
    {
     "name": "stdout",
     "output_type": "stream",
     "text": [
      "(1, 10)\n",
      "The prediction of ship fuel consumption rate of machine learning model is (metric ton/day): [137.97731548]\n"
     ]
    }
   ],
   "source": [
    "# Location of the trained machine learning model. Here, we use the model \"Ship_S1_GB_AIS5Precise\" for example. \n",
    "# All the trained models are in the folder of \"Trained Models/\".\n",
    "path_model = 'Trained Models/Ship_S1_GB_AIS5Precise'\n",
    "\n",
    "# If a model trained by AIS5Precise is used, arrange the values of X (input variables) \n",
    "# and y (target/output variable, \"Fuel consumption rate\") in the following form:\n",
    "# x_expr = ['Sailing speed', 'Trim','Displacement', 'Sea water temperature', 'Wind speed', 'Wind direction (Rel.)', \n",
    "#           'Sea current speed', 'Sea current direction (Rel.)', 'Combined wave height', 'Combined wave direction (Rel.)']\n",
    "# y_expr = 'Fuel consumption rate'.\n",
    "\n",
    "# Sailing speed (knots); Min value = 12; Maximum value = 26;\n",
    "sailingSpeed = 23; \n",
    "# Trim (m); Min value = -5.0; Maximum value = 5.0;\n",
    "trim = 2.3;\n",
    "# Displacement (ton); Min value = 65270; Maximum value = 165070;\n",
    "displacement = 82500\n",
    "# Sea water temperature (degree); Min value = 1.2; Maximum value = 31;\n",
    "seaWaterTemp = 23\n",
    "# Wind speed (knots); Min value = 0 ; Maximum value = 30;\n",
    "windSpeed = 3\n",
    "# Wind direction (Rel.) (degree); Min value = 0; Maximum value = 180;\n",
    "windDirection = 120\n",
    "# Sea current speed (knots); Min value = 0; Maximum value = 8;\n",
    "currentSpeed = 2\n",
    "# Sea current direction (Rel.) (degree); Min value = 0; Maximum value = 180;\n",
    "currentDirection = 4.5\n",
    "# Combined wave height (m); Min value = 0; Maximum value = 8;\n",
    "combinedWaveHight = 3.8\n",
    "# Combined wave direction (Rel.) (degree); Min value = 0; Maximum value = 180;\n",
    "combinedWaveDirection = 60\n",
    "\n",
    "\n",
    "x_expr = pd.DataFrame([[sailingSpeed], [trim], [displacement], [seaWaterTemp], [windSpeed], [windDirection], [currentSpeed], \n",
    "                       [currentDirection], [combinedWaveHight], [combinedWaveDirection]])\n",
    "\n",
    "x_expr = x_expr.values.reshape(1,-1)\n",
    "print(x_expr.shape)\n",
    "\n",
    "\n",
    "# load the trained machine learning model\n",
    "model = joblib.load(path_model)\n",
    "\n",
    "# Predict the y (fuel consumption rate, MT/day) values of the experimental data \"x_expr\"\n",
    "y_pre = model.predict(x_expr)\n",
    "\n",
    "print(\"The prediction of ship fuel consumption rate of machine learning model is (metric ton/day):\", y_pre)"
   ]
  },
  {
   "cell_type": "markdown",
   "metadata": {},
   "source": [
    "In **Li et al. (2022)**, one of the best datasets is ***Set1*** (original voyage report data). **Using the trained model \"Ship_S1_ET_Set1\" as an example**, the following Python code demonstrates how we can load a machine learning model into Python workspace and forecast the fuel consumption rate (ton/day) given sailing speed, displacement/draft, trim, weather conditions, and sea conditions."
   ]
  },
  {
   "cell_type": "code",
   "execution_count": 23,
   "metadata": {},
   "outputs": [
    {
     "name": "stdout",
     "output_type": "stream",
     "text": [
      "(1, 10)\n",
      "The prediction of ship fuel consumption rate of machine learning model is (metric ton/day): [129.27202961]\n"
     ]
    }
   ],
   "source": [
    "# Location of the trained machine learning model. Here, we use the model \"Ship_S1_ET_Set1\" for example. \n",
    "# All the trained models are in the folder of \"Trained Models/\".\n",
    "path_model = 'Trained Models/Ship_S1_ET_Set1'\n",
    "\n",
    "# If a model trained by Set1 is used, arrange the values of X (input variables) \n",
    "# and y (target/output variable, \"Fuel consumption rate\") in the following form:\n",
    "# x_expr = ['Sailing speed', 'Trim','Displacement', 'Sea water temperature', 'Wind speed', 'Wind direction (Rel.)', \n",
    "#           'Sea current speed', 'Sea current direction (Rel.)', 'Swell height', 'Swell direction (Rel.)']\n",
    "# y_expr = 'Fuel consumption rate'.\n",
    "\n",
    "# Sailing speed (knots); Min value = 12; Maximum value = 26;\n",
    "sailingSpeed = 23; \n",
    "# Trim (m); Min value = -5.0; Maximum value = 5.0;\n",
    "trim = 2.3;\n",
    "# Displacement (ton); Min value = 65270; Maximum value = 165070;\n",
    "displacement = 82500\n",
    "# Sea water temperature (degree); Min value = 1.2; Maximum value = 31;\n",
    "seaWaterTemp = 23\n",
    "# Wind speed (Level); Min value = 2 ; Maximum value = 9;\n",
    "windSpeed = 3\n",
    "# Wind direction (Rel.); Min value = 1; Maximum value = 5;\n",
    "# For wind direction definition, see Figure 1 of Li et al. (2022): \"A\" - 1; \"B\"/\"H\" - 2; \"C\"/\"G\" - 3; \"D\"/\"F\" - 4; \"E\" - 5.  \n",
    "windDirection = 3\n",
    "# Sea current speed (knots); Min value = 0.1; Maximum value = 3;\n",
    "currentSpeed = 2\n",
    "# Sea current direction (Rel.); Min value = 1; Maximum value = 5;\n",
    "# For sea current direction definition, see Figure 1 of Li et al. (2022). \"A\" - 5; \"B\"/\"H\" - 4; \"C\"/\"G\" - 3; \"D\"/\"F\" - 2; \"E\" - 1.  \n",
    "currentDirection = 4\n",
    "# Swell height (m); Min value = 1; Maximum value = 6.5;\n",
    "swellHeight = 3.8\n",
    "# Swell direction (Rel.) (Level); Min value = 1; Maximum value = 5;\n",
    "swellDirection = 2\n",
    "\n",
    "\n",
    "x_expr = pd.DataFrame([[sailingSpeed], [trim], [displacement], [seaWaterTemp], [windSpeed], [windDirection], [currentSpeed], \n",
    "                      [currentDirection], [swellHeight], [swellDirection]])\n",
    "x_expr = x_expr.values.reshape(1,-1)\n",
    "print(x_expr.shape)\n",
    "\n",
    "# load the trained machine learning model\n",
    "model = joblib.load(path_model)\n",
    "\n",
    "# Predict the y (fuel consumption rate, MT/day) values of the experimental data \"x_expr\"\n",
    "y_pre = model.predict(x_expr)\n",
    "\n",
    "print(\"The prediction of ship fuel consumption rate of machine learning model is (metric ton/day):\", y_pre)"
   ]
  },
  {
   "cell_type": "markdown",
   "metadata": {},
   "source": [
    "In **Li et al. (2022)**, another best dataset is ***Set3Precise*** (a fusion of voyage report and meteorological data). **Using the trained model \"Ship_S5_SVM_Set3Precise\" as an example**, the following Python code demonstrates how we can load a machine learning model into Python workspace and forecast the fuel consumption rate (ton/day) given sailing speed, displacement/draft, trim, weather conditions, and sea conditions."
   ]
  },
  {
   "cell_type": "code",
   "execution_count": 26,
   "metadata": {},
   "outputs": [
    {
     "name": "stdout",
     "output_type": "stream",
     "text": [
      "(1, 14)\n",
      "The prediction of ship fuel consumption rate of machine learning model is (metric ton/day): [121.7081992]\n"
     ]
    }
   ],
   "source": [
    "# Location of the trained machine learning model. Here, we use the model \"Ship_S5_SVM_Set3Precise\" for example. \n",
    "# All the trained models are in the folder of \"Trained Models/\".\n",
    "path_model = 'Trained Models/Ship_S5_SVM_Set3Precise'\n",
    "\n",
    "# If a model trained by Set3Precise is used, arrange the values of X (input variables) \n",
    "# and y (target/output variable, \"Fuel consumption rate\") in the following form:\n",
    "# x_expr = ['Sailing speed', 'Trim','Displacement', 'Sea water temperature', 'Wind speed', 'Wind direction (Rel.)', \n",
    "#           'Sea current speed', 'Sea current direction (Rel.)', 'Swell height', 'Swell direction (Rel.)',\n",
    "#           'Wind wave height', 'Wind wave direction (Rel.)', 'Combined wave height', 'Combined wave direction (Rel.)']\n",
    "# y_expr = 'Fuel consumption rate'.\n",
    "\n",
    "# Sailing speed (knots); Min value = 12; Maximum value = 26;\n",
    "sailingSpeed = 23; \n",
    "# Trim (m); Min value = -3.0; Maximum value = 3.5;\n",
    "trim = 2.1;\n",
    "# Displacement (ton); Min value = 68000; Maximum value = 135000;\n",
    "displacement = 128391\n",
    "# Sea water temperature (degree); Min value = 0; Maximum value = 35;\n",
    "seaWaterTemp = 23\n",
    "# Wind speed (knots); Min value = 0 ; Maximum value = 18;\n",
    "windSpeed = 3.5\n",
    "# Wind direction (Rel.) (degree); Min value = 0; Maximum value = 180;\n",
    "windDirection = 65\n",
    "# Sea current speed (knots); Min value = 0; Maximum value = 2;\n",
    "currentSpeed = 0.55\n",
    "# Sea current direction (Rel.) (degree); Min value = 0; Maximum value = 180;\n",
    "currentDirection = 158\n",
    "# Swell height (m); Min value = 0; Maximum value = 6;\n",
    "swellHeight = 2.6\n",
    "# Swell direction (Rel.) (degree); Min value = 0; Maximum value = 180;\n",
    "swellDirection = 122\n",
    "# Wind wave height (m); Min value = 1; Maximum value = 6.5;\n",
    "windWaveHeight = 2.8\n",
    "# Wind wave direction (Rel.) (degree); Min value = 0; Maximum value = 180;\n",
    "windWaveDirection = 25\n",
    "# Combined wave height (m); Min value = 0; Maximum value = 8;\n",
    "combinedWaveHeight = 3.8\n",
    "# Combined wave direction (Rel.) (degree); Min value = 0; Maximum value = 180;\n",
    "combinedWaveDirection = 60\n",
    "\n",
    "\n",
    "x_expr = pd.DataFrame([[sailingSpeed], [trim], [displacement], [seaWaterTemp], [windSpeed], [windDirection], \n",
    "                       [currentSpeed], [currentDirection], [swellHeight], [swellDirection], \n",
    "                       [windWaveHeight], [windWaveDirection], [combinedWaveHeight], [combinedWaveDirection]])\n",
    "x_expr = x_expr.values.reshape(1,-1)\n",
    "print(x_expr.shape)\n",
    "\n",
    "# load the trained machine learning model\n",
    "model = joblib.load(path_model)\n",
    "\n",
    "# Predict the y (fuel consumption rate, MT/day) values of the experimental data \"x_expr\"\n",
    "y_pre = model.predict(x_expr)\n",
    "\n",
    "print(\"The prediction of ship fuel consumption rate of machine learning model is (metric ton/day):\", y_pre)"
   ]
  },
  {
   "cell_type": "markdown",
   "metadata": {},
   "source": [
    "In **Du et al. (2022b)**, the best dataset is ***Sensor2*** (a fusion of voyage report data, AIS data, and meteorological data). **Using the trained model \"Ship_S5_XG_Sensor2\" as an example**, the following Python code demonstrates how we can load a machine learning model into Python workspace and forecast the fuel consumption rate (ton/day) given sailing speed, displacement/draft, trim, weather conditions, and sea conditions."
   ]
  },
  {
   "cell_type": "code",
   "execution_count": 6,
   "metadata": {},
   "outputs": [
    {
     "name": "stdout",
     "output_type": "stream",
     "text": [
      "(1, 11)\n",
      "The prediction of ship fuel consumption rate of machine learning model is (metric ton/day): [115.13089]\n"
     ]
    }
   ],
   "source": [
    "# Location of the trained machine learning model. Here, we use the model \"Ship_S5_XG_Sensor2\" for example. \n",
    "# All the trained models are in the folder of \"Trained Models/\".\n",
    "path_model = 'Trained Models/Ship_S5_XG_Sensor2'\n",
    "\n",
    "# If a model trained by Sensor2 is used, arrange the values of X (input variables) \n",
    "# and y (target/output variable, \"Fuel consumption rate\") in the following form:\n",
    "# x_expr = ['Sailing speed', 'Displacement', 'Trim', 'Wind speed', 'Wind direction (Rel.)', \n",
    "#           'Sea current speed', 'Sea current direction (Rel.)', \n",
    "#           'Combined wave height', 'Combined wave direction (Rel.)', 'Combined wave period, 'Sea water temperature',]\n",
    "# y_expr = 'Fuel consumption rate'.\n",
    "\n",
    "# Sailing speed (knots); Min value = 12; Maximum value = 26;\n",
    "sailingSpeed = 23; \n",
    "# Draft (m); Min value = 7; Maximum value = 14;\n",
    "draft = 2\n",
    "# Trim (m); Min value = -2.0; Maximum value = 5;\n",
    "trim = 2.1;\n",
    "# Wind speed (knots); Min value = 0 ; Maximum value = 40;\n",
    "windSpeed = 20\n",
    "# Wind direction (Rel.) (degree); Min value = 0; Maximum value = 180;\n",
    "windDirection = 65\n",
    "# Sea current speed (knots); Min value = 0; Maximum value = 3.5;\n",
    "currentSpeed = 2.2\n",
    "# Sea current direction (Rel.) (degree); Min value = 0; Maximum value = 180;\n",
    "currentDirection = 56\n",
    "# Combined wave height (m); Min value = 0; Maximum value = 8;\n",
    "combinedWaveHeight = 3.8\n",
    "# Combined wave direction (Rel.) (degree); Min value = 0; Maximum value = 180;\n",
    "combinedWaveDirection = 60 \n",
    "# Combined wave period; Min value = 0; Maximum value = 15\n",
    "combinedWavePeriod = 12 \n",
    "# Sea water temperature (degree); Min value = 0; Maximum value = 35;\n",
    "seaWaterTemp = 23\n",
    "\n",
    "x_expr = pd.DataFrame([[sailingSpeed], [draft], [trim], [windSpeed], [windDirection], [currentSpeed], [currentDirection], \n",
    "                       [combinedWaveHeight], [combinedWavePeriod], [combinedWaveDirection], [seaWaterTemp]])\n",
    "x_expr = x_expr.values.reshape(1,-1)\n",
    "print(x_expr.shape)\n",
    "\n",
    "# load the trained machine learning model\n",
    "model = joblib.load(path_model)\n",
    "\n",
    "# Predict the y (fuel consumption rate, MT/day) values of the experimental data \"x_expr\"\n",
    "y_pre = model.predict(x_expr)\n",
    "\n",
    "print(\"The prediction of ship fuel consumption rate of machine learning model is (metric ton/day):\", y_pre* 24 / 1000)"
   ]
  },
  {
   "cell_type": "code",
   "execution_count": null,
   "metadata": {},
   "outputs": [],
   "source": []
  }
 ],
 "metadata": {
  "kernelspec": {
   "display_name": "Python 3",
   "language": "python",
   "name": "python3"
  },
  "language_info": {
   "codemirror_mode": {
    "name": "ipython",
    "version": 3
   },
   "file_extension": ".py",
   "mimetype": "text/x-python",
   "name": "python",
   "nbconvert_exporter": "python",
   "pygments_lexer": "ipython3",
   "version": "3.8.5"
  }
 },
 "nbformat": 4,
 "nbformat_minor": 5
}
